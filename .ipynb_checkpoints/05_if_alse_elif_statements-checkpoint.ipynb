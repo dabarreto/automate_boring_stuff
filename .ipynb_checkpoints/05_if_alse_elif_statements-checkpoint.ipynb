{
 "cells": [
  {
   "cell_type": "markdown",
   "metadata": {},
   "source": [
    "# Automate the Boring Stuff with Python"
   ]
  },
  {
   "cell_type": "markdown",
   "metadata": {},
   "source": [
    "## Practice: 5. If, Else, and Elif Statements"
   ]
  },
  {
   "cell_type": "code",
   "execution_count": 3,
   "metadata": {},
   "outputs": [
    {
     "name": "stdout",
     "output_type": "stream",
     "text": [
      "Hi Alice\n",
      "Done\n"
     ]
    }
   ],
   "source": [
    "name = 'Alice'\n",
    "if name == 'Alice':\n",
    "    print('Hi Alice')\n",
    "print('Done')"
   ]
  },
  {
   "cell_type": "code",
   "execution_count": null,
   "metadata": {},
   "outputs": [],
   "source": [
    "# The indentation is how Python tells what part is inside the IF statements block and what isn't a block begins \n",
    "# when the indentation increases and ends when the indentation returns to its previous level."
   ]
  },
  {
   "cell_type": "code",
   "execution_count": null,
   "metadata": {},
   "outputs": [],
   "source": [
    "# Blocks are also sometimes called clauses but just like health condition is just another name for an expression.\n",
    "# New blocks begin only after statements that end with a colon like in the IF statement in our previous program."
   ]
  },
  {
   "cell_type": "code",
   "execution_count": null,
   "metadata": {},
   "outputs": [],
   "source": [
    "# if else statement\n",
    "\n",
    "# So with the if else statements one of two blocks is executed \n",
    "# but you might have a case where you want one of many possible blocks to execute the if statement is an ELSE IF statement."
   ]
  },
  {
   "cell_type": "code",
   "execution_count": 5,
   "metadata": {},
   "outputs": [
    {
     "name": "stdout",
     "output_type": "stream",
     "text": [
      "Access granted.\n"
     ]
    }
   ],
   "source": [
    "password = 'swordfish'\n",
    "if password == 'swordfish':\n",
    "    print('Access granted.')\n",
    "else:\n",
    "    print('Wrong password.')"
   ]
  },
  {
   "cell_type": "code",
   "execution_count": null,
   "metadata": {},
   "outputs": [],
   "source": [
    "# else if statement\n",
    "# elif statement"
   ]
  },
  {
   "cell_type": "code",
   "execution_count": 6,
   "metadata": {},
   "outputs": [
    {
     "name": "stdout",
     "output_type": "stream",
     "text": [
      "Unlike you, Alice is not an undead, immortal vampire.\n"
     ]
    }
   ],
   "source": [
    "name = 'Bob'\n",
    "age = 3000\n",
    "if name == 'Alice':\n",
    "    print('Hi Alice')\n",
    "elif age < 12:\n",
    "    print('You are not Alice, kiddo.')\n",
    "elif age > 2000:\n",
    "    print('Unlike you, Alice is not an undead, immortal vampire.')\n",
    "elif age > 100:\n",
    "    print('You are not Alice, grannie.')"
   ]
  },
  {
   "cell_type": "code",
   "execution_count": null,
   "metadata": {},
   "outputs": [],
   "source": [
    "# You can have as many elif statements follow an if statement as you need but the order of the statements does matter.\n",
    "\n",
    "# The execution enters the first block that has a true condition.\n",
    "\n",
    "# The rest of the conditions won't even be checked.\n",
    "\n",
    "# You can also add an else statement to the end of the chain of Elif statements.\n",
    "\n",
    "    # The statements block will execute if all of the previous conditions have been false."
   ]
  },
  {
   "cell_type": "code",
   "execution_count": null,
   "metadata": {},
   "outputs": [],
   "source": [
    "# Truthy and Falsey Values\n",
    "\n",
    "# This condition is kind of weird the name variable is set to whatever the user is typed \n",
    "# in but input will be returning a string value not a boolean true or false value."
   ]
  },
  {
   "cell_type": "code",
   "execution_count": 7,
   "metadata": {},
   "outputs": [
    {
     "name": "stdout",
     "output_type": "stream",
     "text": [
      "Enter a name.\n",
      "\n",
      "You did not enter a name.\n"
     ]
    }
   ],
   "source": [
    "print ('Enter a name.')\n",
    "name = input()\n",
    "if name:\n",
    "    print('Thank you for entering a name.')\n",
    "else:\n",
    "    print('You did not enter a name.')"
   ]
  },
  {
   "cell_type": "code",
   "execution_count": null,
   "metadata": {},
   "outputs": [],
   "source": [
    "# The reason this code works is that the conditions can use truthy and false values for strings.\n",
    "# The blank string is a falsie value condition evaluates to the blank string.\n",
    "# It's considered to be the same as the false Boolean values.\n",
    "# All the other non-blank string values are truthy values."
   ]
  },
  {
   "cell_type": "code",
   "execution_count": 8,
   "metadata": {},
   "outputs": [
    {
     "data": {
      "text/plain": [
       "False"
      ]
     },
     "execution_count": 8,
     "metadata": {},
     "output_type": "execute_result"
    }
   ],
   "source": [
    "bool(0)"
   ]
  },
  {
   "cell_type": "code",
   "execution_count": null,
   "metadata": {},
   "outputs": [],
   "source": []
  },
  {
   "cell_type": "code",
   "execution_count": 9,
   "metadata": {},
   "outputs": [
    {
     "data": {
      "text/plain": [
       "True"
      ]
     },
     "execution_count": 9,
     "metadata": {},
     "output_type": "execute_result"
    }
   ],
   "source": [
    "bool(42)"
   ]
  },
  {
   "cell_type": "markdown",
   "metadata": {},
   "source": [
    "## Recap:"
   ]
  },
  {
   "cell_type": "markdown",
   "metadata": {},
   "source": [
    "Am if statement can be used to conditionally execute code depending on whether  or not the if statements condition \n",
    "is true or false.\n",
    "    * else if statement can follow an if statement in its block executes if the condition is true \n",
    "        and all the previous conditions have been false in. Else statement comes at the end.\n",
    "\n",
    "Its block is executed if all the previous conditions have been false.\n",
    "\n",
    "And finally the values 0 and 0.0 and the empty string '' are considered to be false values \n",
    "when used in conditions they are considered to be the same as the false Boolean values.\n",
    "\n",
    "You can always see which for yourself which values are truth your falsie by passing them to the bool function."
   ]
  }
 ],
 "metadata": {
  "kernelspec": {
   "display_name": "Python 3",
   "language": "python",
   "name": "python3"
  },
  "language_info": {
   "codemirror_mode": {
    "name": "ipython",
    "version": 3
   },
   "file_extension": ".py",
   "mimetype": "text/x-python",
   "name": "python",
   "nbconvert_exporter": "python",
   "pygments_lexer": "ipython3",
   "version": "3.8.5"
  }
 },
 "nbformat": 4,
 "nbformat_minor": 4
}
